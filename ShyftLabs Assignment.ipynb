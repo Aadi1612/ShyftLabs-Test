{
  "nbformat": 4,
  "nbformat_minor": 0,
  "metadata": {
    "colab": {
      "provenance": [],
      "authorship_tag": "ABX9TyMzI6XzNad/czTpZgCXd/Zo",
      "include_colab_link": true
    },
    "kernelspec": {
      "name": "python3",
      "display_name": "Python 3"
    },
    "language_info": {
      "name": "python"
    }
  },
  "cells": [
    {
      "cell_type": "markdown",
      "metadata": {
        "id": "view-in-github",
        "colab_type": "text"
      },
      "source": [
        "<a href=\"https://colab.research.google.com/github/Aadi1612/ShyftLabs-Test/blob/main/ShyftLabs%20Assignment.ipynb\" target=\"_parent\"><img src=\"https://colab.research.google.com/assets/colab-badge.svg\" alt=\"Open In Colab\"/></a>"
      ]
    },
    {
      "cell_type": "code",
      "execution_count": null,
      "metadata": {
        "colab": {
          "base_uri": "https://localhost:8080/"
        },
        "id": "c2OhIPAtmt66",
        "outputId": "f6bf336e-b032-45f5-967b-72d5b0888895"
      },
      "outputs": [
        {
          "output_type": "stream",
          "name": "stdout",
          "text": [
            "Enter the array (comma-separated): 3, 3, 2, -1, -1, -1\n",
            "Index of the last positive integer: 3\n"
          ]
        }
      ],
      "source": [
        "def find_index(arr):\n",
        "    low = 0\n",
        "    high = 1\n",
        "    while arr[high] != -1:\n",
        "        low = high\n",
        "        high *= 2\n",
        "\n",
        "    while low <= high:\n",
        "        mid = (low + high) // 2\n",
        "        if arr[mid] == -1:\n",
        "            high = mid - 1\n",
        "        else:\n",
        "            low = mid + 1\n",
        "    return high + 1\n",
        "\n",
        "# Taking input from the user\n",
        "arr = list(map(int, input(\"Enter the array (comma-separated): \").split(',')))\n",
        "\n",
        "# Call the function and print the result\n",
        "print(\"Index of the last positive integer:\", find_index(arr))\n"
      ]
    },
    {
      "cell_type": "code",
      "source": [],
      "metadata": {
        "id": "sLVdzfIlmw0_"
      },
      "execution_count": null,
      "outputs": []
    }
  ]
}